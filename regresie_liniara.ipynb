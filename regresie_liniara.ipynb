{
  "nbformat": 4,
  "nbformat_minor": 0,
  "metadata": {
    "colab": {
      "name": "regresie liniara.ipynb",
      "provenance": [],
      "authorship_tag": "ABX9TyNPSQ3f3fRRFphubaF2rcCQ",
      "include_colab_link": true
    },
    "kernelspec": {
      "name": "python3",
      "display_name": "Python 3"
    }
  },
  "cells": [
    {
      "cell_type": "markdown",
      "metadata": {
        "id": "view-in-github",
        "colab_type": "text"
      },
      "source": [
        "<a href=\"https://colab.research.google.com/github/mariel/Sisteme-Inteligente/blob/Lab2%263/regresie_liniara.ipynb\" target=\"_parent\"><img src=\"https://colab.research.google.com/assets/colab-badge.svg\" alt=\"Open In Colab\"/></a>"
      ]
    },
    {
      "cell_type": "code",
      "metadata": {
        "id": "lZKIZplK3thv",
        "colab_type": "code",
        "colab": {}
      },
      "source": [
        "import matplotlib.pyplot as plt\n",
        "import numpy as np\n",
        "import torch \n",
        "import torch.nn as nn"
      ],
      "execution_count": 0,
      "outputs": []
    },
    {
      "cell_type": "code",
      "metadata": {
        "id": "GvDhpoTC4HDw",
        "colab_type": "code",
        "colab": {
          "base_uri": "https://localhost:8080/",
          "height": 264
        },
        "outputId": "f627a1bc-775f-4699-ba5d-7798cc4242ff"
      },
      "source": [
        "x = np.random.rand(100)\n",
        "y = np.sin(x) * np.power(x, 3) + 3 * x + np.random.rand(100) * 0.8\n",
        "plt.scatter(x, y)\n",
        "plt.show()"
      ],
      "execution_count": 5,
      "outputs": [
        {
          "output_type": "display_data",
          "data": {
            "image/png": "[encoded data removed]",
            "text/plain": [
              "<Figure size 432x288 with 1 Axes>"
            ]
          },
          "metadata": {
            "tags": [],
            "needs_background": "light"
          }
        }
      ]
    },
    {
      "cell_type": "code",
      "metadata": {
        "id": "_rN5YTza4eRs",
        "colab_type": "code",
        "colab": {
          "base_uri": "https://localhost:8080/",
          "height": 318
        },
        "outputId": "ae87fbc3-fe17-496e-d46c-afaa75df18f1"
      },
      "source": [
        "print(x)"
      ],
      "execution_count": 6,
      "outputs": [
        {
          "output_type": "stream",
          "text": [
            "[0.43487614 0.10970262 0.95660599 0.97614187 0.1002578  0.03932263\n",
            " 0.24007738 0.10700735 0.29106463 0.0339428  0.76370538 0.46106432\n",
            " 0.53529459 0.56149933 0.0929186  0.55758615 0.53281094 0.90368005\n",
            " 0.29838071 0.00975712 0.35990879 0.09533542 0.96423798 0.45624643\n",
            " 0.47803587 0.98344592 0.11588275 0.25134283 0.5712388  0.3344983\n",
            " 0.755043   0.87204211 0.01617409 0.59996217 0.65238407 0.52636875\n",
            " 0.10211232 0.1953236  0.74230765 0.9678859  0.06325128 0.4634547\n",
            " 0.08659114 0.48510618 0.498133   0.50424585 0.49891109 0.062674\n",
            " 0.92271647 0.25146632 0.3477805  0.67537751 0.45776959 0.60816053\n",
            " 0.85836712 0.96318752 0.59548647 0.42798272 0.07789791 0.5478206\n",
            " 0.2923258  0.90716832 0.94243982 0.98652415 0.30920925 0.05341584\n",
            " 0.77910917 0.34122745 0.04954812 0.2448589  0.93730714 0.96453613\n",
            " 0.2076636  0.0944806  0.97035521 0.88555079 0.23477801 0.32781181\n",
            " 0.61088965 0.4093748  0.50109795 0.50718187 0.62779156 0.27832113\n",
            " 0.16709659 0.87869982 0.66003595 0.90780074 0.00404069 0.0932939\n",
            " 0.22190537 0.60846443 0.97309184 0.92121414 0.53242428 0.72066616\n",
            " 0.55212826 0.62759422 0.46013045 0.55357051]\n"
          ],
          "name": "stdout"
        }
      ]
    },
    {
      "cell_type": "code",
      "metadata": {
        "id": "-kOggukm5Sa5",
        "colab_type": "code",
        "colab": {
          "base_uri": "https://localhost:8080/",
          "height": 34
        },
        "outputId": "13b261c7-9a6d-4f7e-eaaa-8a4a56807dde"
      },
      "source": [
        "print(x.shape)"
      ],
      "execution_count": 7,
      "outputs": [
        {
          "output_type": "stream",
          "text": [
            "(100,)\n"
          ],
          "name": "stdout"
        }
      ]
    },
    {
      "cell_type": "code",
      "metadata": {
        "id": "7GKDPjvV5VPh",
        "colab_type": "code",
        "colab": {
          "base_uri": "https://localhost:8080/",
          "height": 1000
        },
        "outputId": "d1cfa035-bc84-4d2e-d5c7-4ae121babf2b"
      },
      "source": [
        "print(x.reshape(-1,1))"
      ],
      "execution_count": 8,
      "outputs": [
        {
          "output_type": "stream",
          "text": [
            "[[0.43487614]\n",
            " [0.10970262]\n",
            " [0.95660599]\n",
            " [0.97614187]\n",
            " [0.1002578 ]\n",
            " [0.03932263]\n",
            " [0.24007738]\n",
            " [0.10700735]\n",
            " [0.29106463]\n",
            " [0.0339428 ]\n",
            " [0.76370538]\n",
            " [0.46106432]\n",
            " [0.53529459]\n",
            " [0.56149933]\n",
            " [0.0929186 ]\n",
            " [0.55758615]\n",
            " [0.53281094]\n",
            " [0.90368005]\n",
            " [0.29838071]\n",
            " [0.00975712]\n",
            " [0.35990879]\n",
            " [0.09533542]\n",
            " [0.96423798]\n",
            " [0.45624643]\n",
            " [0.47803587]\n",
            " [0.98344592]\n",
            " [0.11588275]\n",
            " [0.25134283]\n",
            " [0.5712388 ]\n",
            " [0.3344983 ]\n",
            " [0.755043  ]\n",
            " [0.87204211]\n",
            " [0.01617409]\n",
            " [0.59996217]\n",
            " [0.65238407]\n",
            " [0.52636875]\n",
            " [0.10211232]\n",
            " [0.1953236 ]\n",
            " [0.74230765]\n",
            " [0.9678859 ]\n",
            " [0.06325128]\n",
            " [0.4634547 ]\n",
            " [0.08659114]\n",
            " [0.48510618]\n",
            " [0.498133  ]\n",
            " [0.50424585]\n",
            " [0.49891109]\n",
            " [0.062674  ]\n",
            " [0.92271647]\n",
            " [0.25146632]\n",
            " [0.3477805 ]\n",
            " [0.67537751]\n",
            " [0.45776959]\n",
            " [0.60816053]\n",
            " [0.85836712]\n",
            " [0.96318752]\n",
            " [0.59548647]\n",
            " [0.42798272]\n",
            " [0.07789791]\n",
            " [0.5478206 ]\n",
            " [0.2923258 ]\n",
            " [0.90716832]\n",
            " [0.94243982]\n",
            " [0.98652415]\n",
            " [0.30920925]\n",
            " [0.05341584]\n",
            " [0.77910917]\n",
            " [0.34122745]\n",
            " [0.04954812]\n",
            " [0.2448589 ]\n",
            " [0.93730714]\n",
            " [0.96453613]\n",
            " [0.2076636 ]\n",
            " [0.0944806 ]\n",
            " [0.97035521]\n",
            " [0.88555079]\n",
            " [0.23477801]\n",
            " [0.32781181]\n",
            " [0.61088965]\n",
            " [0.4093748 ]\n",
            " [0.50109795]\n",
            " [0.50718187]\n",
            " [0.62779156]\n",
            " [0.27832113]\n",
            " [0.16709659]\n",
            " [0.87869982]\n",
            " [0.66003595]\n",
            " [0.90780074]\n",
            " [0.00404069]\n",
            " [0.0932939 ]\n",
            " [0.22190537]\n",
            " [0.60846443]\n",
            " [0.97309184]\n",
            " [0.92121414]\n",
            " [0.53242428]\n",
            " [0.72066616]\n",
            " [0.55212826]\n",
            " [0.62759422]\n",
            " [0.46013045]\n",
            " [0.55357051]]\n"
          ],
          "name": "stdout"
        }
      ]
    },
    {
      "cell_type": "code",
      "metadata": {
        "id": "FONUy1Tk5Yup",
        "colab_type": "code",
        "colab": {
          "base_uri": "https://localhost:8080/",
          "height": 34
        },
        "outputId": "a7ccf03c-5881-43a7-8c41-6b87304065a9"
      },
      "source": [
        "print(x.reshape(-1,1).shape)"
      ],
      "execution_count": 9,
      "outputs": [
        {
          "output_type": "stream",
          "text": [
            "(100, 1)\n"
          ],
          "name": "stdout"
        }
      ]
    },
    {
      "cell_type": "code",
      "metadata": {
        "id": "mEEA9UIH5e9U",
        "colab_type": "code",
        "colab": {
          "base_uri": "https://localhost:8080/",
          "height": 1000
        },
        "outputId": "53b2fc36-7db5-4be5-e6f8-6fe4ff097713"
      },
      "source": [
        "x = torch.from_numpy(x.reshape(-1, 1)).float()\n",
        "y = torch.from_numpy(y.reshape(-1, 1)).float()\n",
        "print(x,y)"
      ],
      "execution_count": 10,
      "outputs": [
        {
          "output_type": "stream",
          "text": [
            "tensor([[0.4349],\n",
            "        [0.1097],\n",
            "        [0.9566],\n",
            "        [0.9761],\n",
            "        [0.1003],\n",
            "        [0.0393],\n",
            "        [0.2401],\n",
            "        [0.1070],\n",
            "        [0.2911],\n",
            "        [0.0339],\n",
            "        [0.7637],\n",
            "        [0.4611],\n",
            "        [0.5353],\n",
            "        [0.5615],\n",
            "        [0.0929],\n",
            "        [0.5576],\n",
            "        [0.5328],\n",
            "        [0.9037],\n",
            "        [0.2984],\n",
            "        [0.0098],\n",
            "        [0.3599],\n",
            "        [0.0953],\n",
            "        [0.9642],\n",
            "        [0.4562],\n",
            "        [0.4780],\n",
            "        [0.9834],\n",
            "        [0.1159],\n",
            "        [0.2513],\n",
            "        [0.5712],\n",
            "        [0.3345],\n",
            "        [0.7550],\n",
            "        [0.8720],\n",
            "        [0.0162],\n",
            "        [0.6000],\n",
            "        [0.6524],\n",
            "        [0.5264],\n",
            "        [0.1021],\n",
            "        [0.1953],\n",
            "        [0.7423],\n",
            "        [0.9679],\n",
            "        [0.0633],\n",
            "        [0.4635],\n",
            "        [0.0866],\n",
            "        [0.4851],\n",
            "        [0.4981],\n",
            "        [0.5042],\n",
            "        [0.4989],\n",
            "        [0.0627],\n",
            "        [0.9227],\n",
            "        [0.2515],\n",
            "        [0.3478],\n",
            "        [0.6754],\n",
            "        [0.4578],\n",
            "        [0.6082],\n",
            "        [0.8584],\n",
            "        [0.9632],\n",
            "        [0.5955],\n",
            "        [0.4280],\n",
            "        [0.0779],\n",
            "        [0.5478],\n",
            "        [0.2923],\n",
            "        [0.9072],\n",
            "        [0.9424],\n",
            "        [0.9865],\n",
            "        [0.3092],\n",
            "        [0.0534],\n",
            "        [0.7791],\n",
            "        [0.3412],\n",
            "        [0.0495],\n",
            "        [0.2449],\n",
            "        [0.9373],\n",
            "        [0.9645],\n",
            "        [0.2077],\n",
            "        [0.0945],\n",
            "        [0.9704],\n",
            "        [0.8856],\n",
            "        [0.2348],\n",
            "        [0.3278],\n",
            "        [0.6109],\n",
            "        [0.4094],\n",
            "        [0.5011],\n",
            "        [0.5072],\n",
            "        [0.6278],\n",
            "        [0.2783],\n",
            "        [0.1671],\n",
            "        [0.8787],\n",
            "        [0.6600],\n",
            "        [0.9078],\n",
            "        [0.0040],\n",
            "        [0.0933],\n",
            "        [0.2219],\n",
            "        [0.6085],\n",
            "        [0.9731],\n",
            "        [0.9212],\n",
            "        [0.5324],\n",
            "        [0.7207],\n",
            "        [0.5521],\n",
            "        [0.6276],\n",
            "        [0.4601],\n",
            "        [0.5536]]) tensor([[1.4019],\n",
            "        [0.8205],\n",
            "        [3.8662],\n",
            "        [4.0740],\n",
            "        [0.3814],\n",
            "        [0.4855],\n",
            "        [1.1223],\n",
            "        [0.7513],\n",
            "        [1.4074],\n",
            "        [0.6689],\n",
            "        [2.9977],\n",
            "        [1.5421],\n",
            "        [2.1054],\n",
            "        [2.1230],\n",
            "        [0.4987],\n",
            "        [1.7824],\n",
            "        [1.8914],\n",
            "        [3.3327],\n",
            "        [1.2064],\n",
            "        [0.3116],\n",
            "        [1.2668],\n",
            "        [1.0027],\n",
            "        [4.1418],\n",
            "        [1.4797],\n",
            "        [1.8445],\n",
            "        [3.8275],\n",
            "        [1.0661],\n",
            "        [1.4198],\n",
            "        [2.0648],\n",
            "        [1.6595],\n",
            "        [3.2083],\n",
            "        [3.4237],\n",
            "        [0.1131],\n",
            "        [2.2550],\n",
            "        [2.6109],\n",
            "        [1.6606],\n",
            "        [0.7658],\n",
            "        [0.8389],\n",
            "        [2.5182],\n",
            "        [3.8762],\n",
            "        [0.4462],\n",
            "        [1.4915],\n",
            "        [0.3508],\n",
            "        [1.9414],\n",
            "        [1.8306],\n",
            "        [1.7196],\n",
            "        [1.9324],\n",
            "        [0.3788],\n",
            "        [3.6758],\n",
            "        [0.9260],\n",
            "        [1.5039],\n",
            "        [2.3756],\n",
            "        [1.9820],\n",
            "        [2.7343],\n",
            "        [3.3129],\n",
            "        [4.3623],\n",
            "        [2.0910],\n",
            "        [1.6075],\n",
            "        [0.3197],\n",
            "        [1.7803],\n",
            "        [1.4453],\n",
            "        [3.4817],\n",
            "        [3.5828],\n",
            "        [4.4816],\n",
            "        [0.9456],\n",
            "        [0.2530],\n",
            "        [3.1998],\n",
            "        [1.4266],\n",
            "        [0.7066],\n",
            "        [0.8215],\n",
            "        [4.0464],\n",
            "        [3.8513],\n",
            "        [1.1544],\n",
            "        [0.6340],\n",
            "        [4.1121],\n",
            "        [3.7903],\n",
            "        [1.0659],\n",
            "        [1.4994],\n",
            "        [2.4004],\n",
            "        [1.3478],\n",
            "        [1.7004],\n",
            "        [1.9755],\n",
            "        [2.3589],\n",
            "        [1.0049],\n",
            "        [0.6316],\n",
            "        [3.8933],\n",
            "        [2.3917],\n",
            "        [3.7257],\n",
            "        [0.5594],\n",
            "        [0.6936],\n",
            "        [0.8877],\n",
            "        [2.0905],\n",
            "        [4.3221],\n",
            "        [3.9605],\n",
            "        [1.8781],\n",
            "        [3.0657],\n",
            "        [2.1540],\n",
            "        [2.7569],\n",
            "        [2.1265],\n",
            "        [2.3664]])\n"
          ],
          "name": "stdout"
        }
      ]
    },
    {
      "cell_type": "code",
      "metadata": {
        "id": "oONvJEWU5vva",
        "colab_type": "code",
        "colab": {}
      },
      "source": [
        "class Net(nn.Module):\n",
        "  def _init_(self):\n",
        "    super(Net, self)._init_()\n",
        "    self.layer = torch.nn.Liniar(1,1)\n",
        "\n",
        "  def forward(self,x):\n",
        "    x = self.layer(x)\n",
        "    return x"
      ],
      "execution_count": 0,
      "outputs": []
    },
    {
      "cell_type": "code",
      "metadata": {
        "id": "hBl5QPJK6Jl8",
        "colab_type": "code",
        "colab": {
          "base_uri": "https://localhost:8080/",
          "height": 34
        },
        "outputId": "590ac1b7-37bc-48d7-b81c-8feb3f222c0a"
      },
      "source": [
        "net = Net()\n",
        "print(net)"
      ],
      "execution_count": 12,
      "outputs": [
        {
          "output_type": "stream",
          "text": [
            "Net()\n"
          ],
          "name": "stdout"
        }
      ]
    },
    {
      "cell_type": "code",
      "metadata": {
        "id": "pw-ZqEpP8DE4",
        "colab_type": "code",
        "colab": {
          "base_uri": "https://localhost:8080/",
          "height": 352
        },
        "outputId": "7ce9e962-4fe5-4220-cfb2-85610c0867e1"
      },
      "source": [
        "optimizer = torch.optim.SGD(net.parameters(), lr = 0.2)\n",
        "\n",
        "loss_func = torch.nn.MSELoss()"
      ],
      "execution_count": 13,
      "outputs": [
        {
          "output_type": "error",
          "ename": "ValueError",
          "evalue": "ignored",
          "traceback": [
            "\u001b[0;31m---------------------------------------------------------------------------\u001b[0m",
            "\u001b[0;31mValueError\u001b[0m                                Traceback (most recent call last)",
            "\u001b[0;32m<ipython-input-13-234fb99866a8>\u001b[0m in \u001b[0;36m<module>\u001b[0;34m()\u001b[0m\n\u001b[0;32m----> 1\u001b[0;31m \u001b[0moptimizer\u001b[0m \u001b[0;34m=\u001b[0m \u001b[0mtorch\u001b[0m\u001b[0;34m.\u001b[0m\u001b[0moptim\u001b[0m\u001b[0;34m.\u001b[0m\u001b[0mSGD\u001b[0m\u001b[0;34m(\u001b[0m\u001b[0mnet\u001b[0m\u001b[0;34m.\u001b[0m\u001b[0mparameters\u001b[0m\u001b[0;34m(\u001b[0m\u001b[0;34m)\u001b[0m\u001b[0;34m,\u001b[0m \u001b[0mlr\u001b[0m \u001b[0;34m=\u001b[0m \u001b[0;36m0.2\u001b[0m\u001b[0;34m)\u001b[0m\u001b[0;34m\u001b[0m\u001b[0;34m\u001b[0m\u001b[0m\n\u001b[0m\u001b[1;32m      2\u001b[0m \u001b[0;34m\u001b[0m\u001b[0m\n\u001b[1;32m      3\u001b[0m \u001b[0mloss_func\u001b[0m \u001b[0;34m=\u001b[0m \u001b[0mtorch\u001b[0m\u001b[0;34m.\u001b[0m\u001b[0mnn\u001b[0m\u001b[0;34m.\u001b[0m\u001b[0mMSELoss\u001b[0m\u001b[0;34m(\u001b[0m\u001b[0;34m)\u001b[0m\u001b[0;34m\u001b[0m\u001b[0;34m\u001b[0m\u001b[0m\n",
            "\u001b[0;32m/usr/local/lib/python3.6/dist-packages/torch/optim/sgd.py\u001b[0m in \u001b[0;36m__init__\u001b[0;34m(self, params, lr, momentum, dampening, weight_decay, nesterov)\u001b[0m\n\u001b[1;32m     66\u001b[0m         \u001b[0;32mif\u001b[0m \u001b[0mnesterov\u001b[0m \u001b[0;32mand\u001b[0m \u001b[0;34m(\u001b[0m\u001b[0mmomentum\u001b[0m \u001b[0;34m<=\u001b[0m \u001b[0;36m0\u001b[0m \u001b[0;32mor\u001b[0m \u001b[0mdampening\u001b[0m \u001b[0;34m!=\u001b[0m \u001b[0;36m0\u001b[0m\u001b[0;34m)\u001b[0m\u001b[0;34m:\u001b[0m\u001b[0;34m\u001b[0m\u001b[0;34m\u001b[0m\u001b[0m\n\u001b[1;32m     67\u001b[0m             \u001b[0;32mraise\u001b[0m \u001b[0mValueError\u001b[0m\u001b[0;34m(\u001b[0m\u001b[0;34m\"Nesterov momentum requires a momentum and zero dampening\"\u001b[0m\u001b[0;34m)\u001b[0m\u001b[0;34m\u001b[0m\u001b[0;34m\u001b[0m\u001b[0m\n\u001b[0;32m---> 68\u001b[0;31m         \u001b[0msuper\u001b[0m\u001b[0;34m(\u001b[0m\u001b[0mSGD\u001b[0m\u001b[0;34m,\u001b[0m \u001b[0mself\u001b[0m\u001b[0;34m)\u001b[0m\u001b[0;34m.\u001b[0m\u001b[0m__init__\u001b[0m\u001b[0;34m(\u001b[0m\u001b[0mparams\u001b[0m\u001b[0;34m,\u001b[0m \u001b[0mdefaults\u001b[0m\u001b[0;34m)\u001b[0m\u001b[0;34m\u001b[0m\u001b[0;34m\u001b[0m\u001b[0m\n\u001b[0m\u001b[1;32m     69\u001b[0m \u001b[0;34m\u001b[0m\u001b[0m\n\u001b[1;32m     70\u001b[0m     \u001b[0;32mdef\u001b[0m \u001b[0m__setstate__\u001b[0m\u001b[0;34m(\u001b[0m\u001b[0mself\u001b[0m\u001b[0;34m,\u001b[0m \u001b[0mstate\u001b[0m\u001b[0;34m)\u001b[0m\u001b[0;34m:\u001b[0m\u001b[0;34m\u001b[0m\u001b[0;34m\u001b[0m\u001b[0m\n",
            "\u001b[0;32m/usr/local/lib/python3.6/dist-packages/torch/optim/optimizer.py\u001b[0m in \u001b[0;36m__init__\u001b[0;34m(self, params, defaults)\u001b[0m\n\u001b[1;32m     44\u001b[0m         \u001b[0mparam_groups\u001b[0m \u001b[0;34m=\u001b[0m \u001b[0mlist\u001b[0m\u001b[0;34m(\u001b[0m\u001b[0mparams\u001b[0m\u001b[0;34m)\u001b[0m\u001b[0;34m\u001b[0m\u001b[0;34m\u001b[0m\u001b[0m\n\u001b[1;32m     45\u001b[0m         \u001b[0;32mif\u001b[0m \u001b[0mlen\u001b[0m\u001b[0;34m(\u001b[0m\u001b[0mparam_groups\u001b[0m\u001b[0;34m)\u001b[0m \u001b[0;34m==\u001b[0m \u001b[0;36m0\u001b[0m\u001b[0;34m:\u001b[0m\u001b[0;34m\u001b[0m\u001b[0;34m\u001b[0m\u001b[0m\n\u001b[0;32m---> 46\u001b[0;31m             \u001b[0;32mraise\u001b[0m \u001b[0mValueError\u001b[0m\u001b[0;34m(\u001b[0m\u001b[0;34m\"optimizer got an empty parameter list\"\u001b[0m\u001b[0;34m)\u001b[0m\u001b[0;34m\u001b[0m\u001b[0;34m\u001b[0m\u001b[0m\n\u001b[0m\u001b[1;32m     47\u001b[0m         \u001b[0;32mif\u001b[0m \u001b[0;32mnot\u001b[0m \u001b[0misinstance\u001b[0m\u001b[0;34m(\u001b[0m\u001b[0mparam_groups\u001b[0m\u001b[0;34m[\u001b[0m\u001b[0;36m0\u001b[0m\u001b[0;34m]\u001b[0m\u001b[0;34m,\u001b[0m \u001b[0mdict\u001b[0m\u001b[0;34m)\u001b[0m\u001b[0;34m:\u001b[0m\u001b[0;34m\u001b[0m\u001b[0;34m\u001b[0m\u001b[0m\n\u001b[1;32m     48\u001b[0m             \u001b[0mparam_groups\u001b[0m \u001b[0;34m=\u001b[0m \u001b[0;34m[\u001b[0m\u001b[0;34m{\u001b[0m\u001b[0;34m'params'\u001b[0m\u001b[0;34m:\u001b[0m \u001b[0mparam_groups\u001b[0m\u001b[0;34m}\u001b[0m\u001b[0;34m]\u001b[0m\u001b[0;34m\u001b[0m\u001b[0;34m\u001b[0m\u001b[0m\n",
            "\u001b[0;31mValueError\u001b[0m: optimizer got an empty parameter list"
          ]
        }
      ]
    },
    {
      "cell_type": "code",
      "metadata": {
        "id": "ZDd4OzfA8VMH",
        "colab_type": "code",
        "colab": {
          "base_uri": "https://localhost:8080/",
          "height": 387
        },
        "outputId": "c0a7599c-a3e1-4eaa-ad8a-cb60d2db1c43"
      },
      "source": [
        "inputs = x\n",
        "outputs = y\n",
        "\n",
        "for i in range(250):\n",
        "  prediction = net(inputs)\n",
        "\n",
        "  loss = loss_func(prediction, outputs)\n",
        "\n",
        "  optimizer.zero_grad()\n",
        "\n",
        "  loss.backward\n",
        "\n",
        "  optimizer.step()\n",
        "\n",
        "  if i % 10 == 0:\n",
        "    plt.cla()\n",
        "    plt.scatter(x.data.numpy(),y.data.numpy())\n",
        "    plt.plot(x.data.numpy(), prediction.data.numpy(), 'r-', lw = 2)\n",
        "    plt.text(0.5, 0, 'Loss = %.4f' % loss.data.numpy(), fontdict={'size': 10, 'color': 'red'})\n",
        "    plt.pause(0.1)\n",
        "  plt.show() "
      ],
      "execution_count": 14,
      "outputs": [
        {
          "output_type": "error",
          "ename": "AttributeError",
          "evalue": "ignored",
          "traceback": [
            "\u001b[0;31m---------------------------------------------------------------------------\u001b[0m",
            "\u001b[0;31mAttributeError\u001b[0m                            Traceback (most recent call last)",
            "\u001b[0;32m<ipython-input-14-a377ee503811>\u001b[0m in \u001b[0;36m<module>\u001b[0;34m()\u001b[0m\n\u001b[1;32m      3\u001b[0m \u001b[0;34m\u001b[0m\u001b[0m\n\u001b[1;32m      4\u001b[0m \u001b[0;32mfor\u001b[0m \u001b[0mi\u001b[0m \u001b[0;32min\u001b[0m \u001b[0mrange\u001b[0m\u001b[0;34m(\u001b[0m\u001b[0;36m250\u001b[0m\u001b[0;34m)\u001b[0m\u001b[0;34m:\u001b[0m\u001b[0;34m\u001b[0m\u001b[0;34m\u001b[0m\u001b[0m\n\u001b[0;32m----> 5\u001b[0;31m   \u001b[0mprediction\u001b[0m \u001b[0;34m=\u001b[0m \u001b[0mnet\u001b[0m\u001b[0;34m(\u001b[0m\u001b[0minputs\u001b[0m\u001b[0;34m)\u001b[0m\u001b[0;34m\u001b[0m\u001b[0;34m\u001b[0m\u001b[0m\n\u001b[0m\u001b[1;32m      6\u001b[0m \u001b[0;34m\u001b[0m\u001b[0m\n\u001b[1;32m      7\u001b[0m   \u001b[0mloss\u001b[0m \u001b[0;34m=\u001b[0m \u001b[0mloss_func\u001b[0m\u001b[0;34m(\u001b[0m\u001b[0mprediction\u001b[0m\u001b[0;34m,\u001b[0m \u001b[0moutputs\u001b[0m\u001b[0;34m)\u001b[0m\u001b[0;34m\u001b[0m\u001b[0;34m\u001b[0m\u001b[0m\n",
            "\u001b[0;32m/usr/local/lib/python3.6/dist-packages/torch/nn/modules/module.py\u001b[0m in \u001b[0;36m__call__\u001b[0;34m(self, *input, **kwargs)\u001b[0m\n\u001b[1;32m    548\u001b[0m             \u001b[0mresult\u001b[0m \u001b[0;34m=\u001b[0m \u001b[0mself\u001b[0m\u001b[0;34m.\u001b[0m\u001b[0m_slow_forward\u001b[0m\u001b[0;34m(\u001b[0m\u001b[0;34m*\u001b[0m\u001b[0minput\u001b[0m\u001b[0;34m,\u001b[0m \u001b[0;34m**\u001b[0m\u001b[0mkwargs\u001b[0m\u001b[0;34m)\u001b[0m\u001b[0;34m\u001b[0m\u001b[0;34m\u001b[0m\u001b[0m\n\u001b[1;32m    549\u001b[0m         \u001b[0;32melse\u001b[0m\u001b[0;34m:\u001b[0m\u001b[0;34m\u001b[0m\u001b[0;34m\u001b[0m\u001b[0m\n\u001b[0;32m--> 550\u001b[0;31m             \u001b[0mresult\u001b[0m \u001b[0;34m=\u001b[0m \u001b[0mself\u001b[0m\u001b[0;34m.\u001b[0m\u001b[0mforward\u001b[0m\u001b[0;34m(\u001b[0m\u001b[0;34m*\u001b[0m\u001b[0minput\u001b[0m\u001b[0;34m,\u001b[0m \u001b[0;34m**\u001b[0m\u001b[0mkwargs\u001b[0m\u001b[0;34m)\u001b[0m\u001b[0;34m\u001b[0m\u001b[0;34m\u001b[0m\u001b[0m\n\u001b[0m\u001b[1;32m    551\u001b[0m         \u001b[0;32mfor\u001b[0m \u001b[0mhook\u001b[0m \u001b[0;32min\u001b[0m \u001b[0mself\u001b[0m\u001b[0;34m.\u001b[0m\u001b[0m_forward_hooks\u001b[0m\u001b[0;34m.\u001b[0m\u001b[0mvalues\u001b[0m\u001b[0;34m(\u001b[0m\u001b[0;34m)\u001b[0m\u001b[0;34m:\u001b[0m\u001b[0;34m\u001b[0m\u001b[0;34m\u001b[0m\u001b[0m\n\u001b[1;32m    552\u001b[0m             \u001b[0mhook_result\u001b[0m \u001b[0;34m=\u001b[0m \u001b[0mhook\u001b[0m\u001b[0;34m(\u001b[0m\u001b[0mself\u001b[0m\u001b[0;34m,\u001b[0m \u001b[0minput\u001b[0m\u001b[0;34m,\u001b[0m \u001b[0mresult\u001b[0m\u001b[0;34m)\u001b[0m\u001b[0;34m\u001b[0m\u001b[0;34m\u001b[0m\u001b[0m\n",
            "\u001b[0;32m<ipython-input-11-f20b2bca1aa3>\u001b[0m in \u001b[0;36mforward\u001b[0;34m(self, x)\u001b[0m\n\u001b[1;32m      5\u001b[0m \u001b[0;34m\u001b[0m\u001b[0m\n\u001b[1;32m      6\u001b[0m   \u001b[0;32mdef\u001b[0m \u001b[0mforward\u001b[0m\u001b[0;34m(\u001b[0m\u001b[0mself\u001b[0m\u001b[0;34m,\u001b[0m\u001b[0mx\u001b[0m\u001b[0;34m)\u001b[0m\u001b[0;34m:\u001b[0m\u001b[0;34m\u001b[0m\u001b[0;34m\u001b[0m\u001b[0m\n\u001b[0;32m----> 7\u001b[0;31m     \u001b[0mx\u001b[0m \u001b[0;34m=\u001b[0m \u001b[0mself\u001b[0m\u001b[0;34m.\u001b[0m\u001b[0mlayer\u001b[0m\u001b[0;34m(\u001b[0m\u001b[0mx\u001b[0m\u001b[0;34m)\u001b[0m\u001b[0;34m\u001b[0m\u001b[0;34m\u001b[0m\u001b[0m\n\u001b[0m\u001b[1;32m      8\u001b[0m     \u001b[0;32mreturn\u001b[0m \u001b[0mx\u001b[0m\u001b[0;34m\u001b[0m\u001b[0;34m\u001b[0m\u001b[0m\n",
            "\u001b[0;32m/usr/local/lib/python3.6/dist-packages/torch/nn/modules/module.py\u001b[0m in \u001b[0;36m__getattr__\u001b[0;34m(self, name)\u001b[0m\n\u001b[1;32m    592\u001b[0m                 \u001b[0;32mreturn\u001b[0m \u001b[0mmodules\u001b[0m\u001b[0;34m[\u001b[0m\u001b[0mname\u001b[0m\u001b[0;34m]\u001b[0m\u001b[0;34m\u001b[0m\u001b[0;34m\u001b[0m\u001b[0m\n\u001b[1;32m    593\u001b[0m         raise AttributeError(\"'{}' object has no attribute '{}'\".format(\n\u001b[0;32m--> 594\u001b[0;31m             type(self).__name__, name))\n\u001b[0m\u001b[1;32m    595\u001b[0m \u001b[0;34m\u001b[0m\u001b[0m\n\u001b[1;32m    596\u001b[0m     \u001b[0;32mdef\u001b[0m \u001b[0m__setattr__\u001b[0m\u001b[0;34m(\u001b[0m\u001b[0mself\u001b[0m\u001b[0;34m,\u001b[0m \u001b[0mname\u001b[0m\u001b[0;34m,\u001b[0m \u001b[0mvalue\u001b[0m\u001b[0;34m)\u001b[0m\u001b[0;34m:\u001b[0m\u001b[0;34m\u001b[0m\u001b[0;34m\u001b[0m\u001b[0m\n",
            "\u001b[0;31mAttributeError\u001b[0m: 'Net' object has no attribute 'layer'"
          ]
        }
      ]
    },
    {
      "cell_type": "code",
      "metadata": {
        "id": "Mgl5jXSz9dON",
        "colab_type": "code",
        "colab": {}
      },
      "source": [
        ""
      ],
      "execution_count": 0,
      "outputs": []
    }
  ]
}