{
  "nbformat": 4,
  "nbformat_minor": 0,
  "metadata": {
    "colab": {
      "name": "Kmeans.ipynb",
      "provenance": [],
      "authorship_tag": "ABX9TyNl0xGodOsLrxnXDl18eLJG",
      "include_colab_link": true
    },
    "kernelspec": {
      "name": "python3",
      "display_name": "Python 3"
    }
  },
  "cells": [
    {
      "cell_type": "markdown",
      "metadata": {
        "id": "view-in-github",
        "colab_type": "text"
      },
      "source": [
        "<a href=\"https://colab.research.google.com/github/mariel/Sisteme-Inteligente/blob/master/Kmeans.ipynb\" target=\"_parent\"><img src=\"https://colab.research.google.com/assets/colab-badge.svg\" alt=\"Open In Colab\"/></a>"
      ]
    },
    {
      "cell_type": "code",
      "metadata": {
        "id": "-V4ETcBQoESA",
        "colab_type": "code",
        "colab": {}
      },
      "source": [
        "import pandas as pd\n",
        "import numpy as np\n",
        "from sklearn.cluster import KMeans\n",
        "from sklearn.preprocessing import LabelEncoder\n",
        "from sklearn.preprocessing import MinMaxScaler\n",
        "import seaborn as sns\n",
        "import matplotlib.pyplot as plt\n",
        "#matplotlib inline"
      ],
      "execution_count": 0,
      "outputs": []
    },
    {
      "cell_type": "code",
      "metadata": {
        "id": "Hq9PeEihoqf_",
        "colab_type": "code",
        "colab": {}
      },
      "source": [
        "train_url = \"http://s3.amazonaws.com/assets.datacamp.com/course/Kaggle/train.csv\"\n",
        "train = pd.read_csv(train_url)\n",
        "test_url = \"http://s3.amazonaws.com/assets.datacamp.com/course/Kaggle/test.csv\"\n",
        "test = pd.read_csv(test_url)"
      ],
      "execution_count": 0,
      "outputs": []
    },
    {
      "cell_type": "code",
      "metadata": {
        "id": "Edpqx80Aozs_",
        "colab_type": "code",
        "colab": {}
      },
      "source": [
        "print(\"***** Train_Set *****\")\n",
        "print(train.head())\n",
        "print(\"\\n\")\n",
        "print(\"***** Test_Set *****\")\n",
        "print(test.head())"
      ],
      "execution_count": 0,
      "outputs": []
    },
    {
      "cell_type": "code",
      "metadata": {
        "id": "MzoKEiNOo4Cb",
        "colab_type": "code",
        "colab": {}
      },
      "source": [
        "print(\"***** Train_Set *****\")\n",
        "print(train.describe())\n",
        "print(\"\\n\")\n",
        "print(\"***** Test_Set *****\")\n",
        "print(test.describe())"
      ],
      "execution_count": 0,
      "outputs": []
    },
    {
      "cell_type": "code",
      "metadata": {
        "id": "edppPCjyo7wa",
        "colab_type": "code",
        "colab": {}
      },
      "source": [
        "print(train.columns.values)"
      ],
      "execution_count": 0,
      "outputs": []
    },
    {
      "cell_type": "code",
      "metadata": {
        "id": "H2qvqy8Jo-WL",
        "colab_type": "code",
        "colab": {}
      },
      "source": [
        "train.isna().head()"
      ],
      "execution_count": 0,
      "outputs": []
    },
    {
      "cell_type": "code",
      "metadata": {
        "id": "QSpSXDjQpAcH",
        "colab_type": "code",
        "colab": {}
      },
      "source": [
        "test.isna().head()"
      ],
      "execution_count": 0,
      "outputs": []
    },
    {
      "cell_type": "code",
      "metadata": {
        "id": "Ai2XBD4OpDSX",
        "colab_type": "code",
        "colab": {}
      },
      "source": [
        "print(\"*****In the train set*****\")\n",
        "print(train.isna().sum())\n",
        "print(\"\\n\")\n",
        "print(\"*****In the test set*****\")\n",
        "print(test.isna().sum())"
      ],
      "execution_count": 0,
      "outputs": []
    },
    {
      "cell_type": "code",
      "metadata": {
        "id": "HOLv4i27pFlV",
        "colab_type": "code",
        "colab": {}
      },
      "source": [
        "train.fillna(train.mean(), inplace=True)"
      ],
      "execution_count": 0,
      "outputs": []
    },
    {
      "cell_type": "code",
      "metadata": {
        "id": "nrPc2kJOpJYx",
        "colab_type": "code",
        "colab": {}
      },
      "source": [
        "test.fillna(test.mean(), inplace=True)"
      ],
      "execution_count": 0,
      "outputs": []
    },
    {
      "cell_type": "code",
      "metadata": {
        "id": "Z5_ht8N_pKqK",
        "colab_type": "code",
        "colab": {}
      },
      "source": [
        "print(train.isna().sum())"
      ],
      "execution_count": 0,
      "outputs": []
    },
    {
      "cell_type": "code",
      "metadata": {
        "id": "VPTYd3C2pMxC",
        "colab_type": "code",
        "colab": {}
      },
      "source": [
        "print(test.isna().sum())"
      ],
      "execution_count": 0,
      "outputs": []
    },
    {
      "cell_type": "code",
      "metadata": {
        "id": "RC1-276vpP40",
        "colab_type": "code",
        "colab": {}
      },
      "source": [
        "train['Ticket'].head()"
      ],
      "execution_count": 0,
      "outputs": []
    },
    {
      "cell_type": "code",
      "metadata": {
        "id": "tu_TMyyPpR4L",
        "colab_type": "code",
        "colab": {}
      },
      "source": [
        "train['Cabin'].head()"
      ],
      "execution_count": 0,
      "outputs": []
    },
    {
      "cell_type": "code",
      "metadata": {
        "id": "xQVWcShKpTrL",
        "colab_type": "code",
        "colab": {}
      },
      "source": [
        "train[['Pclass', 'Survived']].groupby(['Pclass'], as_index=False).mean().sort_values(by='Survived', ascending=False)"
      ],
      "execution_count": 0,
      "outputs": []
    },
    {
      "cell_type": "code",
      "metadata": {
        "id": "9tjD4l37pWv-",
        "colab_type": "code",
        "colab": {}
      },
      "source": [
        "train[[\"Sex\", \"Survived\"]].groupby(['Sex'], as_index=False).mean().sort_values(by='Survived', ascending=False)"
      ],
      "execution_count": 0,
      "outputs": []
    },
    {
      "cell_type": "code",
      "metadata": {
        "id": "iTp1GpEXpYYW",
        "colab_type": "code",
        "colab": {}
      },
      "source": [
        "train[[\"SibSp\", \"Survived\"]].groupby(['SibSp'], as_index=False).mean().sort_values(by='Survived', ascending=False)"
      ],
      "execution_count": 0,
      "outputs": []
    },
    {
      "cell_type": "code",
      "metadata": {
        "id": "lvCt0vkjpafP",
        "colab_type": "code",
        "colab": {}
      },
      "source": [
        "g = sns.FacetGrid(train, col='Survived')\n",
        "g.map(plt.hist, 'Age', bins=20)"
      ],
      "execution_count": 0,
      "outputs": []
    },
    {
      "cell_type": "code",
      "metadata": {
        "id": "8b90dC9spdY4",
        "colab_type": "code",
        "colab": {}
      },
      "source": [
        "grid = sns.FacetGrid(train, col='Survived', row='Pclass', size=2.2, aspect=1.6)\n",
        "grid.map(plt.hist, 'Age', alpha=.5, bins=20)\n",
        "grid.add_legend();"
      ],
      "execution_count": 0,
      "outputs": []
    },
    {
      "cell_type": "code",
      "metadata": {
        "id": "E_ELe6bCphgq",
        "colab_type": "code",
        "colab": {}
      },
      "source": [
        "train.info()"
      ],
      "execution_count": 0,
      "outputs": []
    },
    {
      "cell_type": "code",
      "metadata": {
        "id": "Rznnu-rtptlG",
        "colab_type": "code",
        "colab": {}
      },
      "source": [
        "train = train.drop(['Name','Ticket', 'Cabin','Embarked'], axis=1)\n",
        "test = test.drop(['Name','Ticket', 'Cabin','Embarked'], axis=1)"
      ],
      "execution_count": 0,
      "outputs": []
    },
    {
      "cell_type": "code",
      "metadata": {
        "id": "J3TAqwykpxHI",
        "colab_type": "code",
        "colab": {}
      },
      "source": [
        "labelEncoder = LabelEncoder()\n",
        "labelEncoder.fit(train['Sex'])\n",
        "labelEncoder.fit(test['Sex'])\n",
        "train['Sex'] = labelEncoder.transform(train['Sex'])\n",
        "test['Sex'] = labelEncoder.transform(test['Sex'])"
      ],
      "execution_count": 0,
      "outputs": []
    },
    {
      "cell_type": "code",
      "metadata": {
        "id": "gVU295THpymY",
        "colab_type": "code",
        "colab": {}
      },
      "source": [
        "train.info()"
      ],
      "execution_count": 0,
      "outputs": []
    },
    {
      "cell_type": "code",
      "metadata": {
        "id": "q4XSkg6bp0Gu",
        "colab_type": "code",
        "colab": {}
      },
      "source": [
        "test.info()"
      ],
      "execution_count": 0,
      "outputs": []
    },
    {
      "cell_type": "code",
      "metadata": {
        "id": "tAv5FBegp2N5",
        "colab_type": "code",
        "colab": {}
      },
      "source": [
        "X = np.array(train.drop(['Survived'], 1).astype(float))"
      ],
      "execution_count": 0,
      "outputs": []
    },
    {
      "cell_type": "code",
      "metadata": {
        "id": "PdNmZXlzp4UC",
        "colab_type": "code",
        "colab": {}
      },
      "source": [
        "y = np.array(train['Survived'])"
      ],
      "execution_count": 0,
      "outputs": []
    },
    {
      "cell_type": "code",
      "metadata": {
        "id": "24cGXAYsp5n7",
        "colab_type": "code",
        "colab": {}
      },
      "source": [
        "  train.info()"
      ],
      "execution_count": 0,
      "outputs": []
    },
    {
      "cell_type": "code",
      "metadata": {
        "id": "CagwXRBVp66j",
        "colab_type": "code",
        "colab": {}
      },
      "source": [
        "kmeans = KMeans(n_clusters=1,n_init=5,tol=0.001) # You want cluster the passenger records into 2: Survived or Not survived\n",
        "kmeans.fit(X)"
      ],
      "execution_count": 0,
      "outputs": []
    },
    {
      "cell_type": "code",
      "metadata": {
        "id": "KfY8aIzmp8tb",
        "colab_type": "code",
        "colab": {}
      },
      "source": [
        "correct = 0\n",
        "for i in range(len(X)):\n",
        "    predict_me = np.array(X[i].astype(float))\n",
        "    predict_me = predict_me.reshape(-1, len(predict_me))\n",
        "    prediction = kmeans.predict(predict_me)\n",
        "    if prediction[0] == y[i]:\n",
        "        correct += 1\n",
        "\n",
        "print(correct/len(X))"
      ],
      "execution_count": 0,
      "outputs": []
    },
    {
      "cell_type": "code",
      "metadata": {
        "id": "bRQoEXGLp_aN",
        "colab_type": "code",
        "colab": {}
      },
      "source": [
        "kmeans = kmeans = KMeans(n_clusters=8,n_init=10,  max_iter=1000, algorithm = 'full')\n",
        "kmeans.fit(X)"
      ],
      "execution_count": 0,
      "outputs": []
    },
    {
      "cell_type": "code",
      "metadata": {
        "id": "lNjt1s7QqMZg",
        "colab_type": "code",
        "colab": {}
      },
      "source": [
        "scaler = MinMaxScaler()\n",
        "X_scaled = scaler.fit_transform(X)"
      ],
      "execution_count": 0,
      "outputs": []
    },
    {
      "cell_type": "code",
      "metadata": {
        "id": "CEe_UxcSqfYY",
        "colab_type": "code",
        "colab": {}
      },
      "source": [
        "\n",
        "kmeans.fit(X_scaled)"
      ],
      "execution_count": 0,
      "outputs": []
    },
    {
      "cell_type": "code",
      "metadata": {
        "id": "3ecdaAanqmAa",
        "colab_type": "code",
        "colab": {}
      },
      "source": [
        "correct = 0\n",
        "for i in range(len(X)):\n",
        "    predict_me = np.array(X[i].astype(float))\n",
        "    predict_me = predict_me.reshape(-1, len(predict_me))\n",
        "    prediction = kmeans.predict(predict_me)\n",
        "    if prediction[0] == y[i]:\n",
        "        correct += 1\n",
        "\n",
        "print(correct/len(X))"
      ],
      "execution_count": 0,
      "outputs": []
    },
    {
      "cell_type": "code",
      "metadata": {
        "id": "dDSQ2lFGq2ZR",
        "colab_type": "code",
        "colab": {}
      },
      "source": [
        ""
      ],
      "execution_count": 0,
      "outputs": []
    }
  ]
}