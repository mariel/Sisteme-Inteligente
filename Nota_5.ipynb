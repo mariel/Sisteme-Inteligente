{
  "nbformat": 4,
  "nbformat_minor": 0,
  "metadata": {
    "colab": {
      "name": "Nota 5.ipynb",
      "provenance": [],
      "authorship_tag": "ABX9TyNZPg+qDaOe1n0LKuCmR3YL",
      "include_colab_link": true
    },
    "kernelspec": {
      "name": "python3",
      "display_name": "Python 3"
    }
  },
  "cells": [
    {
      "cell_type": "markdown",
      "metadata": {
        "id": "view-in-github",
        "colab_type": "text"
      },
      "source": [
        "<a href=\"https://colab.research.google.com/github/mariel/Sisteme-Inteligente/blob/master/Nota_5.ipynb\" target=\"_parent\"><img src=\"https://colab.research.google.com/assets/colab-badge.svg\" alt=\"Open In Colab\"/></a>"
      ]
    },
    {
      "cell_type": "code",
      "metadata": {
        "id": "gHTW0zUbavSh",
        "colab_type": "code",
        "colab": {}
      },
      "source": [
        "import numpy as np\n",
        "import pandas as pd"
      ],
      "execution_count": 0,
      "outputs": []
    },
    {
      "cell_type": "code",
      "metadata": {
        "id": "rsp_aWsFbD5H",
        "colab_type": "code",
        "colab": {}
      },
      "source": [
        "import matplotlib.pyplot as plt\n",
        "plt.style.use(\"ggplot\")"
      ],
      "execution_count": 0,
      "outputs": []
    },
    {
      "cell_type": "code",
      "metadata": {
        "id": "m1EJ6ogKbW54",
        "colab_type": "code",
        "colab": {}
      },
      "source": [
        "df = pd.read_csv(\"/content/pd_speech_features.csv\")"
      ],
      "execution_count": 0,
      "outputs": []
    },
    {
      "cell_type": "code",
      "metadata": {
        "id": "WA9Ry00YdR61",
        "colab_type": "code",
        "colab": {}
      },
      "source": [
        "df.head()"
      ],
      "execution_count": 0,
      "outputs": []
    },
    {
      "cell_type": "code",
      "metadata": {
        "id": "9lxsOhpOe4Tt",
        "colab_type": "code",
        "colab": {}
      },
      "source": [
        "X = df.drop(\"class\", axis = 1)\n",
        "y = df['class']"
      ],
      "execution_count": 0,
      "outputs": []
    },
    {
      "cell_type": "code",
      "metadata": {
        "id": "oZuqpM55gAh5",
        "colab_type": "code",
        "colab": {}
      },
      "source": [
        "from sklearn.model_selection import train_test_split"
      ],
      "execution_count": 0,
      "outputs": []
    },
    {
      "cell_type": "code",
      "metadata": {
        "id": "PlM7yZnufDVu",
        "colab_type": "code",
        "colab": {}
      },
      "source": [
        "X_train, X_test, y_train, y_test = train_test_split(X,y,test_size = 0.2, shuffle = True)"
      ],
      "execution_count": 0,
      "outputs": []
    },
    {
      "cell_type": "code",
      "metadata": {
        "id": "Yb__kdCJ8zu8",
        "colab_type": "code",
        "colab": {}
      },
      "source": [
        "sum(y_train),len(y_test)"
      ],
      "execution_count": 0,
      "outputs": []
    },
    {
      "cell_type": "code",
      "metadata": {
        "id": "7Nsyw74ef8zf",
        "colab_type": "code",
        "colab": {}
      },
      "source": [
        "from sklearn.preprocessing import MinMaxScaler"
      ],
      "execution_count": 0,
      "outputs": []
    },
    {
      "cell_type": "code",
      "metadata": {
        "id": "WWcMgMcBgNcD",
        "colab_type": "code",
        "colab": {}
      },
      "source": [
        "X_train"
      ],
      "execution_count": 0,
      "outputs": []
    },
    {
      "cell_type": "code",
      "metadata": {
        "id": "ExUOnSr9jTTl",
        "colab_type": "code",
        "colab": {}
      },
      "source": [
        "y_train"
      ],
      "execution_count": 0,
      "outputs": []
    },
    {
      "cell_type": "code",
      "metadata": {
        "id": "bO-GK56Kkliq",
        "colab_type": "code",
        "colab": {}
      },
      "source": [
        "sc = MinMaxScaler((-1,1))"
      ],
      "execution_count": 0,
      "outputs": []
    },
    {
      "cell_type": "code",
      "metadata": {
        "id": "khvTK96GlD78",
        "colab_type": "code",
        "colab": {}
      },
      "source": [
        "X_train = sc.fit_transform(X_train)\n",
        "X_test = sc.transform(X_test)"
      ],
      "execution_count": 0,
      "outputs": []
    },
    {
      "cell_type": "code",
      "metadata": {
        "id": "FSaOo9UOmPtl",
        "colab_type": "code",
        "colab": {}
      },
      "source": [
        "X_test"
      ],
      "execution_count": 0,
      "outputs": []
    },
    {
      "cell_type": "code",
      "metadata": {
        "id": "dzvw01p_9ZS2",
        "colab_type": "code",
        "colab": {}
      },
      "source": [
        "len(X_train)"
      ],
      "execution_count": 0,
      "outputs": []
    },
    {
      "cell_type": "code",
      "metadata": {
        "id": "_Nsl2aulmWLa",
        "colab_type": "code",
        "colab": {}
      },
      "source": [
        "from torch.utils.data import Dataset, DataLoader"
      ],
      "execution_count": 0,
      "outputs": []
    },
    {
      "cell_type": "code",
      "metadata": {
        "id": "v7TQcuM4mbs1",
        "colab_type": "code",
        "colab": {}
      },
      "source": [
        "import torch\n",
        "from torch import nn,optim"
      ],
      "execution_count": 0,
      "outputs": []
    },
    {
      "cell_type": "code",
      "metadata": {
        "id": "rBMTsba-nhHl",
        "colab_type": "code",
        "colab": {}
      },
      "source": [
        "trainDataset = Dataset(X_train,y_train)"
      ],
      "execution_count": 0,
      "outputs": []
    },
    {
      "cell_type": "code",
      "metadata": {
        "id": "ye2Zlanl-cZd",
        "colab_type": "code",
        "colab": {}
      },
      "source": [
        "trainDataset[0]"
      ],
      "execution_count": 0,
      "outputs": []
    },
    {
      "cell_type": "code",
      "metadata": {
        "id": "9MWiAUEL-ext",
        "colab_type": "code",
        "colab": {}
      },
      "source": [
        "trainLoader = DataLoader(dataset= trainDataset,\n",
        "                        batch_size = 32,\n",
        "                         shuffle = True,\n",
        "                         num_workers = 1)"
      ],
      "execution_count": 0,
      "outputs": []
    },
    {
      "cell_type": "code",
      "metadata": {
        "id": "u01Zz2rN-7xA",
        "colab_type": "code",
        "colab": {}
      },
      "source": [
        "validationDataset = Dataset(X_test, y_test)"
      ],
      "execution_count": 0,
      "outputs": []
    },
    {
      "cell_type": "code",
      "metadata": {
        "id": "bPg2QPBv_Bdh",
        "colab_type": "code",
        "colab": {}
      },
      "source": [
        "validationLoader = DataLoader(dataset = validationDataset,\n",
        "                              batch_size = 32,\n",
        "                              shuffle = True,\n",
        "                              num_workers=1)"
      ],
      "execution_count": 0,
      "outputs": []
    },
    {
      "cell_type": "code",
      "metadata": {
        "id": "l7t_YuC4_OJP",
        "colab_type": "code",
        "colab": {}
      },
      "source": [
        "class ParkinsonsNN(nn.Module):\n",
        "    def __init__(self):\n",
        "        super(ParkinsonsNN,self).__init__()\n",
        "\n",
        "        self.sequential = nn.Sequential(\n",
        "            nn.Linear(754,350),\n",
        "            nn.ReLU(),\n",
        "            nn.Linear(350, 200),\n",
        "            nn.ReLU(),\n",
        "            nn.Linear(200,175),\n",
        "            nn.ReLU(),\n",
        "            nn.Linear(175,100),\n",
        "            nn.ReLU(),\n",
        "            nn.Linear(100,60),\n",
        "            nn.ReLU(),\n",
        "            nn.Linear(60,2)\n",
        "        )\n",
        "    def forward(self,x):\n",
        "      return self.sequential(x)"
      ],
      "execution_count": 0,
      "outputs": []
    },
    {
      "cell_type": "code",
      "metadata": {
        "id": "M06GUoBVAclJ",
        "colab_type": "code",
        "colab": {}
      },
      "source": [
        "net = ParkinsonsNN()"
      ],
      "execution_count": 0,
      "outputs": []
    },
    {
      "cell_type": "code",
      "metadata": {
        "id": "bW8XNp1rArmQ",
        "colab_type": "code",
        "colab": {}
      },
      "source": [
        "optimizer = optim.SGD(net.parameters(), lr = 0.01)\n",
        "criterion = nn.CrossEntropyLoss()\n",
        "scheduler = optim.lr_scheduler.ReduceLROnPlateau(optimizer,patience=5,verbose=True)"
      ],
      "execution_count": 0,
      "outputs": []
    },
    {
      "cell_type": "code",
      "metadata": {
        "id": "DBhV3LOZBBxR",
        "colab_type": "code",
        "colab": {}
      },
      "source": [
        "train_losses = []"
      ],
      "execution_count": 0,
      "outputs": []
    },
    {
      "cell_type": "code",
      "metadata": {
        "id": "sHMTPEXlBE5R",
        "colab_type": "code",
        "colab": {}
      },
      "source": [
        "accuracies = []"
      ],
      "execution_count": 0,
      "outputs": []
    },
    {
      "cell_type": "code",
      "metadata": {
        "id": "epKg89jiBGnj",
        "colab_type": "code",
        "colab": {}
      },
      "source": [
        "from sklearn.metrics import accuracy_score"
      ],
      "execution_count": 0,
      "outputs": []
    },
    {
      "cell_type": "code",
      "metadata": {
        "id": "W7XUsRnoBKYM",
        "colab_type": "code",
        "colab": {}
      },
      "source": [
        "def train(epoch):\n",
        "  net.train()\n",
        "  losses =[]\n",
        "  \n",
        "  for batch_idx, data in enumerate(trainLoader,0):\n",
        "    inputs,labels = data\n",
        "    outputs = net(inputs)\n",
        "    loss = criterion(outputs,labels)\n",
        "\n",
        "    losses.append(loss.item())\n",
        "\n",
        "    optimizer.zero_grad()\n",
        "    loss.backward()\n",
        "    optimizer.step()\n",
        "    print(f\"[Train Epoch: {epoch}, Batch: {batch_idx+1}, Loss:{loss.item()}]\")\n",
        "  mean_loss = sum(losses)/len(losses)\n",
        "  scheduler.step(mean_loss)\n",
        "  train_losses.append(mean_loss)\n",
        "  print(f\"[TRAIN] Epoch: {epoch} Loss:{mean_loss}\")"
      ],
      "execution_count": 0,
      "outputs": []
    },
    {
      "cell_type": "code",
      "metadata": {
        "id": "jUV6vMWDDCuq",
        "colab_type": "code",
        "colab": {}
      },
      "source": [
        "test_losses=[]"
      ],
      "execution_count": 0,
      "outputs": []
    },
    {
      "cell_type": "code",
      "metadata": {
        "id": "c_G-3fN8DEcI",
        "colab_type": "code",
        "colab": {}
      },
      "source": [
        "def validation():\n",
        "    net.eval()\n",
        "\n",
        "    test_loss=[]\n",
        "    correct = 0\n",
        "\n",
        "    with torch.no_grad():\n",
        "        for batch_idx, data in enumerate(validationLoader, 0):\n",
        "          inputs, labels = data\n",
        "\n",
        "          output=net(inputs)\n",
        "\n",
        "          loss= criterion(output, labels)\n",
        "          test_loss.append(loss.item())\n",
        " \n",
        "          pred = output.data.max(1, keepdim=True)[1]\n",
        "\n",
        "          correct += pred.eq(labels.data.view_as(pred)).sum()\n",
        "          current_correct=pred.eq(labels.data.view_as(pred)).sum()          \n",
        "          print(\"============\")\n",
        "          print(f\"[Validation set] Batch index: {batch_idx+1} Batch loss: {loss.item()}, Accuracy: {100. * current_correct/len(inputs)}%\")\n",
        "          print(\"============\")\n",
        "        mean_loss=sum(test_loss)/len(test_loss)\n",
        "        test_losses.append(mean_loss)\n",
        "        accuracy = 100. * correct/len(validationLoader.dataset)\n",
        "        print(f\"[Validation set] Loss: {mean_loss}, Accuracy: {accuracy}%\")\n",
        "          \n",
        "        accuracies.append(accuracy)"
      ],
      "execution_count": 0,
      "outputs": []
    },
    {
      "cell_type": "code",
      "metadata": {
        "id": "jyppT8I5Dx2p",
        "colab_type": "code",
        "colab": {}
      },
      "source": [
        "for epoch in range(150):\n",
        "  train(epoch)\n",
        "  validation()"
      ],
      "execution_count": 0,
      "outputs": []
    },
    {
      "cell_type": "code",
      "metadata": {
        "id": "5Ew4wBvID0ML",
        "colab_type": "code",
        "colab": {}
      },
      "source": [
        "plt.plot(train_losses, \"r-\", test_losses, \"b-\")"
      ],
      "execution_count": 0,
      "outputs": []
    },
    {
      "cell_type": "code",
      "metadata": {
        "id": "Bh0OA55hET07",
        "colab_type": "code",
        "colab": {}
      },
      "source": [
        "plt.plot(accuracies)"
      ],
      "execution_count": 0,
      "outputs": []
    },
    {
      "cell_type": "code",
      "metadata": {
        "id": "Z4MC9W5CEYIG",
        "colab_type": "code",
        "colab": {}
      },
      "source": [
        "def try_a_single_example_with_the_network(index_from_the_validation_set):\n",
        "  with torch.no_grad():\n",
        "    pred_test = net(validationDataset[index_from_the_validation_set][0].view(1, -1))\n",
        "    _, preds_y = torch.max(pred_test, 1)\n",
        "    return preds_y"
      ],
      "execution_count": 0,
      "outputs": []
    },
    {
      "cell_type": "code",
      "metadata": {
        "id": "IQwrM-uUEeMj",
        "colab_type": "code",
        "colab": {}
      },
      "source": [
        "index_of_test=5"
      ],
      "execution_count": 0,
      "outputs": []
    },
    {
      "cell_type": "code",
      "metadata": {
        "id": "rQRxwxdqEfi5",
        "colab_type": "code",
        "colab": {}
      },
      "source": [
        "print(f\"Neural network response is: {try_a_single_example_with_the_network(index_of_test).item()}\")\n",
        "print(f\"Actual response is: {validationDataset[index_of_test][1].view(-1).item()}\")"
      ],
      "execution_count": 0,
      "outputs": []
    }
  ]
}