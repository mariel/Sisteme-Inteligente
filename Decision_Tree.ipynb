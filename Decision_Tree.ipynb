{
  "nbformat": 4,
  "nbformat_minor": 0,
  "metadata": {
    "colab": {
      "name": "Decision Tree.ipynb",
      "provenance": [],
      "authorship_tag": "ABX9TyP8va0+tPHhSxAu3TBruCp6",
      "include_colab_link": true
    },
    "kernelspec": {
      "name": "python3",
      "display_name": "Python 3"
    }
  },
  "cells": [
    {
      "cell_type": "markdown",
      "metadata": {
        "id": "view-in-github",
        "colab_type": "text"
      },
      "source": [
        "<a href=\"https://colab.research.google.com/github/mariel/Sisteme-Inteligente/blob/master/Decision_Tree.ipynb\" target=\"_parent\"><img src=\"https://colab.research.google.com/assets/colab-badge.svg\" alt=\"Open In Colab\"/></a>"
      ]
    },
    {
      "cell_type": "code",
      "metadata": {
        "id": "SIKEauTGZmW9",
        "colab_type": "code",
        "colab": {}
      },
      "source": [
        "import pandas as pd\n",
        "from sklearn.tree import DecisionTreeClassifier # Import Decision Tree Classifier\n",
        "from sklearn.model_selection import train_test_split # Import train_test_split function\n",
        "from sklearn import metrics #Import scikit-learn metrics module for accuracy calculation"
      ],
      "execution_count": 0,
      "outputs": []
    },
    {
      "cell_type": "code",
      "metadata": {
        "id": "SlZUO5AcZu7D",
        "colab_type": "code",
        "colab": {}
      },
      "source": [
        "col_names = ['id',\n",
        "             'diagnosis',\n",
        "             'radius_mean',\n",
        "             'texture_mean',\n",
        "             'perimeter_mean',\n",
        "             'area_mean',\n",
        "             'smoothness_mean',\n",
        "             'compactness_mean',\n",
        "             'concavity_mean',\n",
        "             'concave points_mean',\n",
        "             'symmetry_mean',\n",
        "             'fractal_dimension_mean',\n",
        "             'radius_se',\n",
        "             'texture_se',\n",
        "             'perimeter_se',\n",
        "             'area_se',\n",
        "             'smoothness_se',\n",
        "             'compactness_se',\n",
        "             'concavity_se',\n",
        "             'concave points_se', \n",
        "             'symmetry_se',\n",
        "             'fractal_dimension_se',\n",
        "             'radius_worst', \n",
        "             'texture_worst', \n",
        "             'perimeter_worst',\n",
        "             'area_worst',\n",
        "             'smoothness_worst',\n",
        "             'compactness_worst',\n",
        "             'concavity_worst',\n",
        "             'concave points_worst',\n",
        "             'symmetry_worst',\n",
        "             'fractal_dimension_worst',\n",
        "             'wtf?!']\n",
        "# load dataset\n",
        "pima = pd.read_csv(\"/content/data.csv\")\n",
        "pima.columns = col_names"
      ],
      "execution_count": 0,
      "outputs": []
    },
    {
      "cell_type": "code",
      "metadata": {
        "id": "qv1G1eysaDQ3",
        "colab_type": "code",
        "colab": {}
      },
      "source": [
        "pima.head()"
      ],
      "execution_count": 0,
      "outputs": []
    },
    {
      "cell_type": "code",
      "metadata": {
        "id": "IYr6zLwaaaSq",
        "colab_type": "code",
        "colab": {}
      },
      "source": [
        "#split dataset in features and target variable\n",
        "feature_cols = ['radius_mean',\n",
        "                'texture_mean',\n",
        "                'perimeter_mean',\n",
        "                'area_mean',\n",
        "                'smoothness_mean',\n",
        "                'compactness_mean',\n",
        "                'concavity_mean',\n",
        "                'concave points_mean',\n",
        "                'symmetry_mean',\n",
        "                'fractal_dimension_mean',\n",
        "                'radius_se',\n",
        "                'texture_se',\n",
        "                'perimeter_se',\n",
        "                'area_se',\n",
        "                'smoothness_se',\n",
        "                'compactness_se',\n",
        "                'concavity_se',\n",
        "                'concave points_se', \n",
        "                'symmetry_se',\n",
        "                'fractal_dimension_se',\n",
        "                'radius_worst', \n",
        "                'texture_worst', \n",
        "                'perimeter_worst',\n",
        "                'area_worst',\n",
        "                'smoothness_worst',\n",
        "                'compactness_worst',\n",
        "                'concavity_worst',\n",
        "                'concave points_worst',\n",
        "                'symmetry_worst',\n",
        "                'fractal_dimension_worst']\n",
        "X = pima[feature_cols] # Features\n",
        "y = pima.diagnosis # Target variable"
      ],
      "execution_count": 0,
      "outputs": []
    },
    {
      "cell_type": "code",
      "metadata": {
        "id": "pwwZcPwUb4y8",
        "colab_type": "code",
        "colab": {}
      },
      "source": [
        "# Split dataset into training set and test set\n",
        "X_train, X_test, y_train, y_test = train_test_split(X, y, test_size=0.3, random_state=1) # 70% training and 30% test"
      ],
      "execution_count": 0,
      "outputs": []
    },
    {
      "cell_type": "code",
      "metadata": {
        "id": "iWNfbrYrcFrJ",
        "colab_type": "code",
        "colab": {}
      },
      "source": [
        "# Model Accuracy, how often is the classifier correct?\n",
        "print(\"Accuracy:\",metrics.accuracy_score(y_test, y_pred))"
      ],
      "execution_count": 0,
      "outputs": []
    },
    {
      "cell_type": "code",
      "metadata": {
        "id": "thRjHu6acHiW",
        "colab_type": "code",
        "colab": {}
      },
      "source": [
        "from sklearn.tree import export_graphviz\n",
        "from sklearn.externals.six import StringIO  \n",
        "from IPython.display import Image  \n",
        "import pydotplus\n",
        "\n",
        "dot_data = StringIO()\n",
        "export_graphviz(clf, out_file=dot_data,  \n",
        "                filled=True, rounded=True,\n",
        "                special_characters=True,feature_names = feature_cols,class_names=['M','B'])\n",
        "graph = pydotplus.graph_from_dot_data(dot_data.getvalue())  \n",
        "graph.write_png('breastcancer.png')\n",
        "Image(graph.create_png())"
      ],
      "execution_count": 0,
      "outputs": []
    },
    {
      "cell_type": "code",
      "metadata": {
        "id": "-eLvOqCjcScX",
        "colab_type": "code",
        "colab": {}
      },
      "source": [
        "# Create Decision Tree classifer object\n",
        "clf = DecisionTreeClassifier(criterion=\"entropy\", max_depth=3)\n",
        "\n",
        "# Train Decision Tree Classifer\n",
        "clf = clf.fit(X_train,y_train)\n",
        "\n",
        "#Predict the response for test dataset\n",
        "y_pred = clf.predict(X_test)\n",
        "\n",
        "# Model Accuracy, how often is the classifier correct?\n",
        "print(\"Accuracy:\",metrics.accuracy_score(y_test, y_pred))"
      ],
      "execution_count": 0,
      "outputs": []
    },
    {
      "cell_type": "code",
      "metadata": {
        "id": "hVnbF4afcaB4",
        "colab_type": "code",
        "colab": {}
      },
      "source": [
        "from sklearn.externals.six import StringIO  \n",
        "from IPython.display import Image  \n",
        "from sklearn.tree import export_graphviz\n",
        "import pydotplus\n",
        "dot_data = StringIO()\n",
        "export_graphviz(clf, out_file=dot_data,  \n",
        "                filled=True, rounded=True,\n",
        "                special_characters=True, feature_names = feature_cols,class_names=['M','B'])\n",
        "graph = pydotplus.graph_from_dot_data(dot_data.getvalue())  \n",
        "graph.write_png('breastcancer.png')\n",
        "Image(graph.create_png())"
      ],
      "execution_count": 0,
      "outputs": []
    }
  ]
}